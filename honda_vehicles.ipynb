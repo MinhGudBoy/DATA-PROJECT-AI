{
  "nbformat": 4,
  "nbformat_minor": 0,
  "metadata": {
    "colab": {
      "name": "honda-vehicles.ipynb",
      "provenance": [],
      "collapsed_sections": []
    },
    "kernelspec": {
      "name": "python3",
      "display_name": "Python 3"
    },
    "language_info": {
      "name": "python"
    },
    "gpuClass": "standard"
  },
  "cells": [
    {
      "cell_type": "code",
      "execution_count": null,
      "metadata": {
        "colab": {
          "base_uri": "https://localhost:8080/"
        },
        "id": "fXZFZbzbOMl5",
        "outputId": "1fbe8ef2-c9a2-4187-e5c3-f110bad8a936"
      },
      "outputs": [
        {
          "output_type": "stream",
          "name": "stdout",
          "text": [
            "Cloning into 'yolov5'...\n",
            "remote: Enumerating objects: 12265, done.\u001b[K\n",
            "remote: Counting objects: 100% (15/15), done.\u001b[K\n",
            "remote: Compressing objects: 100% (14/14), done.\u001b[K\n",
            "remote: Total 12265 (delta 3), reused 6 (delta 1), pack-reused 12250\u001b[K\n",
            "Receiving objects: 100% (12265/12265), 12.03 MiB | 9.42 MiB/s, done.\n",
            "Resolving deltas: 100% (8489/8489), done.\n",
            "/content/drive/MyDrive/Colab Notebooks/yolov5\n",
            "\u001b[K     |████████████████████████████████| 596 kB 5.3 MB/s \n",
            "\u001b[K     |████████████████████████████████| 145 kB 5.3 MB/s \n",
            "\u001b[K     |████████████████████████████████| 178 kB 49.8 MB/s \n",
            "\u001b[K     |████████████████████████████████| 1.1 MB 35.6 MB/s \n",
            "\u001b[K     |████████████████████████████████| 67 kB 5.8 MB/s \n",
            "\u001b[K     |████████████████████████████████| 54 kB 3.0 MB/s \n",
            "\u001b[K     |████████████████████████████████| 138 kB 76.1 MB/s \n",
            "\u001b[K     |████████████████████████████████| 62 kB 1.4 MB/s \n",
            "\u001b[?25h  Building wheel for roboflow (setup.py) ... \u001b[?25l\u001b[?25hdone\n",
            "  Building wheel for wget (setup.py) ... \u001b[?25l\u001b[?25hdone\n",
            "\u001b[31mERROR: pip's dependency resolver does not currently take into account all the packages that are installed. This behaviour is the source of the following dependency conflicts.\n",
            "google-colab 1.0.0 requires requests~=2.23.0, but you have requests 2.28.0 which is incompatible.\n",
            "datascience 0.10.6 requires folium==0.2.1, but you have folium 0.8.3 which is incompatible.\n",
            "albumentations 0.1.12 requires imgaug<0.2.7,>=0.2.5, but you have imgaug 0.2.9 which is incompatible.\u001b[0m\n",
            "Setup complete. Using torch 1.11.0+cu113 (Tesla T4)\n"
          ]
        }
      ],
      "source": [
        "#clone YOLOv5\n",
        "!git clone https://github.com/ultralytics/yolov5  # clone repo\n",
        "%cd yolov5\n",
        "%pip install -qr requirements.txt # install dependencies\n",
        "%pip install -q roboflow\n",
        "\n",
        "import torch\n",
        "import os\n",
        "from IPython.display import Image, clear_output  # to display images\n",
        "\n",
        "print(f\"Setup complete. Using torch {torch.__version__} ({torch.cuda.get_device_properties(0).name if torch.cuda.is_available() else 'CPU'})\")"
      ]
    },
    {
      "cell_type": "code",
      "source": [
        "from roboflow import Roboflow\n",
        "rf = Roboflow(model_format=\"yolov5\", notebook=\"ultralytics\")"
      ],
      "metadata": {
        "colab": {
          "base_uri": "https://localhost:8080/"
        },
        "id": "QzCiFyJhOxOU",
        "outputId": "ce53bb7a-18cb-4b96-a9ff-cd02861c48a8"
      },
      "execution_count": null,
      "outputs": [
        {
          "output_type": "stream",
          "name": "stdout",
          "text": [
            "upload and label your dataset, and get an API KEY here: https://app.roboflow.com/?model=yolov5&ref=ultralytics\n"
          ]
        }
      ]
    },
    {
      "cell_type": "code",
      "source": [
        "# set up environment\n",
        "os.environ[\"DATASET_DIRECTORY\"] = \"/content/datasets\""
      ],
      "metadata": {
        "id": "3z65LYF_OzB2"
      },
      "execution_count": null,
      "outputs": []
    },
    {
      "cell_type": "code",
      "source": [
        "!pip install roboflow\n",
        "\n",
        "from roboflow import Roboflow\n",
        "rf = Roboflow(api_key=\"MXjzjtQatFwlA6x0ZnVA\")\n",
        "project = rf.workspace(\"ai-bete-fviua\").project(\"honda-pkl\")\n",
        "dataset = project.version(1).download(\"yolov5\")"
      ],
      "metadata": {
        "colab": {
          "base_uri": "https://localhost:8080/"
        },
        "id": "NBPZHYjlO1-G",
        "outputId": "a28cba68-ea8e-465d-d8ee-84854bdf8311"
      },
      "execution_count": null,
      "outputs": [
        {
          "output_type": "stream",
          "name": "stdout",
          "text": [
            "Looking in indexes: https://pypi.org/simple, https://us-python.pkg.dev/colab-wheels/public/simple/\n",
            "Requirement already satisfied: roboflow in /usr/local/lib/python3.7/dist-packages (0.2.4)\n",
            "Requirement already satisfied: wget in /usr/local/lib/python3.7/dist-packages (from roboflow) (3.2)\n",
            "Requirement already satisfied: six in /usr/local/lib/python3.7/dist-packages (from roboflow) (1.15.0)\n",
            "Requirement already satisfied: tqdm>=4.41.0 in /usr/local/lib/python3.7/dist-packages (from roboflow) (4.64.0)\n",
            "Requirement already satisfied: numpy>=1.18.5 in /usr/local/lib/python3.7/dist-packages (from roboflow) (1.21.6)\n",
            "Requirement already satisfied: urllib3==1.26.6 in /usr/local/lib/python3.7/dist-packages (from roboflow) (1.26.6)\n",
            "Requirement already satisfied: certifi==2021.5.30 in /usr/local/lib/python3.7/dist-packages (from roboflow) (2021.5.30)\n",
            "Requirement already satisfied: PyYAML>=5.3.1 in /usr/local/lib/python3.7/dist-packages (from roboflow) (6.0)\n",
            "Requirement already satisfied: matplotlib in /usr/local/lib/python3.7/dist-packages (from roboflow) (3.2.2)\n",
            "Requirement already satisfied: idna==2.10 in /usr/local/lib/python3.7/dist-packages (from roboflow) (2.10)\n",
            "Requirement already satisfied: cycler==0.10.0 in /usr/local/lib/python3.7/dist-packages (from roboflow) (0.10.0)\n",
            "Requirement already satisfied: pyparsing==2.4.7 in /usr/local/lib/python3.7/dist-packages (from roboflow) (2.4.7)\n",
            "Requirement already satisfied: requests-toolbelt in /usr/local/lib/python3.7/dist-packages (from roboflow) (0.9.1)\n",
            "Requirement already satisfied: python-dateutil in /usr/local/lib/python3.7/dist-packages (from roboflow) (2.8.2)\n",
            "Requirement already satisfied: python-dotenv in /usr/local/lib/python3.7/dist-packages (from roboflow) (0.20.0)\n",
            "Requirement already satisfied: chardet==4.0.0 in /usr/local/lib/python3.7/dist-packages (from roboflow) (4.0.0)\n",
            "Requirement already satisfied: Pillow>=7.1.2 in /usr/local/lib/python3.7/dist-packages (from roboflow) (7.1.2)\n",
            "Requirement already satisfied: opencv-python>=4.1.2 in /usr/local/lib/python3.7/dist-packages (from roboflow) (4.1.2.30)\n",
            "Requirement already satisfied: kiwisolver==1.3.1 in /usr/local/lib/python3.7/dist-packages (from roboflow) (1.3.1)\n",
            "Requirement already satisfied: requests in /usr/local/lib/python3.7/dist-packages (from roboflow) (2.28.0)\n",
            "Requirement already satisfied: charset-normalizer~=2.0.0 in /usr/local/lib/python3.7/dist-packages (from requests->roboflow) (2.0.12)\n",
            "loading Roboflow workspace...\n",
            "loading Roboflow project...\n",
            "Downloading Dataset Version Zip in /content/datasets/Honda-PKL-1 to yolov5pytorch: 100% [25657402 / 25657402] bytes\n"
          ]
        },
        {
          "output_type": "stream",
          "name": "stderr",
          "text": [
            "Extracting Dataset Version Zip to /content/datasets/Honda-PKL-1 in yolov5pytorch:: 100%|██████████| 438/438 [00:00<00:00, 1078.70it/s]\n"
          ]
        }
      ]
    },
    {
      "cell_type": "code",
      "source": [
        "!python train.py --img 640 --batch 5 --epochs 15 --data /content/datasets/Honda-PKL-1/data.yaml --weights yolov5s.pt --cache --project/content/drive/MyDrive/Colab\\ Notebooks/yolov5/runs/honda-vehicles/train"
      ],
      "metadata": {
        "colab": {
          "base_uri": "https://localhost:8080/"
        },
        "id": "finObdW2O3SG",
        "outputId": "922d10e2-6543-4d99-aafb-0f1207df352e"
      },
      "execution_count": null,
      "outputs": [
        {
          "output_type": "stream",
          "name": "stdout",
          "text": [
            "\u001b[34m\u001b[1mtrain: \u001b[0mweights=yolov5s.pt, cfg=, data=/content/datasets/Honda-PKL-1/data.yaml, hyp=data/hyps/hyp.scratch-low.yaml, epochs=15, batch_size=5, imgsz=640, rect=False, resume=False, nosave=False, noval=False, noautoanchor=False, noplots=False, evolve=None, bucket=, cache=--project/content/drive/MyDrive/Colab Notebooks/yolov5/runs/honda-vehicles/train, image_weights=False, device=, multi_scale=False, single_cls=False, optimizer=SGD, sync_bn=False, workers=8, project=runs/train, name=exp, exist_ok=False, quad=False, cos_lr=False, label_smoothing=0.0, patience=100, freeze=[0], save_period=-1, local_rank=-1, entity=None, upload_dataset=False, bbox_interval=-1, artifact_alias=latest\n",
            "\u001b[34m\u001b[1mgithub: \u001b[0mup to date with https://github.com/ultralytics/yolov5 ✅\n",
            "git: 'Notebooks/yolov5' is not a git command. See 'git --help'.\n",
            "YOLOv5 🚀 2022-6-21 Python-3.7.13 torch-1.11.0+cu113 CUDA:0 (Tesla T4, 15110MiB)\n",
            "\n",
            "\u001b[34m\u001b[1mhyperparameters: \u001b[0mlr0=0.01, lrf=0.01, momentum=0.937, weight_decay=0.0005, warmup_epochs=3.0, warmup_momentum=0.8, warmup_bias_lr=0.1, box=0.05, cls=0.5, cls_pw=1.0, obj=1.0, obj_pw=1.0, iou_t=0.2, anchor_t=4.0, fl_gamma=0.0, hsv_h=0.015, hsv_s=0.7, hsv_v=0.4, degrees=0.0, translate=0.1, scale=0.5, shear=0.0, perspective=0.0, flipud=0.0, fliplr=0.5, mosaic=1.0, mixup=0.0, copy_paste=0.0\n",
            "\u001b[34m\u001b[1mWeights & Biases: \u001b[0mrun 'pip install wandb' to automatically track and visualize YOLOv5 🚀 runs (RECOMMENDED)\n",
            "\u001b[34m\u001b[1mTensorBoard: \u001b[0mStart with 'tensorboard --logdir runs/train', view at http://localhost:6006/\n",
            "Downloading https://ultralytics.com/assets/Arial.ttf to /root/.config/Ultralytics/Arial.ttf...\n",
            "100% 755k/755k [00:00<00:00, 19.0MB/s]\n",
            "Downloading https://github.com/ultralytics/yolov5/releases/download/v6.1/yolov5s.pt to yolov5s.pt...\n",
            "100% 14.1M/14.1M [00:00<00:00, 112MB/s] \n",
            "\n",
            "Overriding model.yaml nc=80 with nc=7\n",
            "\n",
            "                 from  n    params  module                                  arguments                     \n",
            "  0                -1  1      3520  models.common.Conv                      [3, 32, 6, 2, 2]              \n",
            "  1                -1  1     18560  models.common.Conv                      [32, 64, 3, 2]                \n",
            "  2                -1  1     18816  models.common.C3                        [64, 64, 1]                   \n",
            "  3                -1  1     73984  models.common.Conv                      [64, 128, 3, 2]               \n",
            "  4                -1  2    115712  models.common.C3                        [128, 128, 2]                 \n",
            "  5                -1  1    295424  models.common.Conv                      [128, 256, 3, 2]              \n",
            "  6                -1  3    625152  models.common.C3                        [256, 256, 3]                 \n",
            "  7                -1  1   1180672  models.common.Conv                      [256, 512, 3, 2]              \n",
            "  8                -1  1   1182720  models.common.C3                        [512, 512, 1]                 \n",
            "  9                -1  1    656896  models.common.SPPF                      [512, 512, 5]                 \n",
            " 10                -1  1    131584  models.common.Conv                      [512, 256, 1, 1]              \n",
            " 11                -1  1         0  torch.nn.modules.upsampling.Upsample    [None, 2, 'nearest']          \n",
            " 12           [-1, 6]  1         0  models.common.Concat                    [1]                           \n",
            " 13                -1  1    361984  models.common.C3                        [512, 256, 1, False]          \n",
            " 14                -1  1     33024  models.common.Conv                      [256, 128, 1, 1]              \n",
            " 15                -1  1         0  torch.nn.modules.upsampling.Upsample    [None, 2, 'nearest']          \n",
            " 16           [-1, 4]  1         0  models.common.Concat                    [1]                           \n",
            " 17                -1  1     90880  models.common.C3                        [256, 128, 1, False]          \n",
            " 18                -1  1    147712  models.common.Conv                      [128, 128, 3, 2]              \n",
            " 19          [-1, 14]  1         0  models.common.Concat                    [1]                           \n",
            " 20                -1  1    296448  models.common.C3                        [256, 256, 1, False]          \n",
            " 21                -1  1    590336  models.common.Conv                      [256, 256, 3, 2]              \n",
            " 22          [-1, 10]  1         0  models.common.Concat                    [1]                           \n",
            " 23                -1  1   1182720  models.common.C3                        [512, 512, 1, False]          \n",
            " 24      [17, 20, 23]  1     32364  models.yolo.Detect                      [7, [[10, 13, 16, 30, 33, 23], [30, 61, 62, 45, 59, 119], [116, 90, 156, 198, 373, 326]], [128, 256, 512]]\n",
            "Model summary: 270 layers, 7038508 parameters, 7038508 gradients\n",
            "\n",
            "Transferred 343/349 items from yolov5s.pt\n",
            "\u001b[34m\u001b[1mAMP: \u001b[0mchecks passed ✅\n",
            "Scaled weight_decay = 0.0005078125\n",
            "\u001b[34m\u001b[1moptimizer:\u001b[0m SGD with parameter groups 57 weight (no decay), 60 weight, 60 bias\n",
            "\u001b[34m\u001b[1malbumentations: \u001b[0mversion 1.0.3 required by YOLOv5, but version 0.1.12 is currently installed\n",
            "\u001b[34m\u001b[1mtrain: \u001b[0mScanning '/content/datasets/Honda-PKL-1/train/labels' images and labels...103 found, 0 missing, 0 empty, 0 corrupt: 100% 103/103 [00:00<00:00, 2133.16it/s]\n",
            "\u001b[34m\u001b[1mtrain: \u001b[0mNew cache created: /content/datasets/Honda-PKL-1/train/labels.cache\n",
            "\u001b[34m\u001b[1mtrain: \u001b[0mCaching images (0.1GB --project/content/drive/MyDrive/Colab Notebooks/yolov5/runs/honda-vehicles/train): 100% 103/103 [00:00<00:00, 151.97it/s]\n",
            "\u001b[34m\u001b[1mval: \u001b[0mScanning '/content/datasets/Honda-PKL-1/valid/labels' images and labels...60 found, 0 missing, 0 empty, 0 corrupt: 100% 60/60 [00:00<00:00, 756.80it/s]\n",
            "\u001b[34m\u001b[1mval: \u001b[0mNew cache created: /content/datasets/Honda-PKL-1/valid/labels.cache\n",
            "\u001b[34m\u001b[1mval: \u001b[0mCaching images (0.1GB --project/content/drive/MyDrive/Colab Notebooks/yolov5/runs/honda-vehicles/train): 100% 60/60 [00:00<00:00, 149.89it/s]\n",
            "Plotting labels to runs/train/exp/labels.jpg... \n",
            "\n",
            "\u001b[34m\u001b[1mAutoAnchor: \u001b[0m2.94 anchors/target, 1.000 Best Possible Recall (BPR). Current anchors are a good fit to dataset ✅\n",
            "Image sizes 640 train, 640 val\n",
            "Using 2 dataloader workers\n",
            "Logging results to \u001b[1mruns/train/exp\u001b[0m\n",
            "Starting training for 15 epochs...\n",
            "\n",
            "     Epoch   gpu_mem       box       obj       cls    labels  img_size\n",
            "      0/14     1.19G   0.08813   0.03561   0.04701        10       640: 100% 21/21 [00:05<00:00,  3.99it/s]\n",
            "               Class     Images     Labels          P          R     mAP@.5 mAP@.5:.95: 100% 6/6 [00:01<00:00,  5.97it/s]\n",
            "                 all         60         70    0.00173      0.178    0.00135   0.000382\n",
            "\n",
            "     Epoch   gpu_mem       box       obj       cls    labels  img_size\n",
            "      1/14     1.47G   0.08271   0.03687   0.04908        12       640: 100% 21/21 [00:02<00:00,  7.88it/s]\n",
            "               Class     Images     Labels          P          R     mAP@.5 mAP@.5:.95: 100% 6/6 [00:00<00:00,  7.75it/s]\n",
            "                 all         60         70    0.00432       0.55     0.0177    0.00538\n",
            "\n",
            "     Epoch   gpu_mem       box       obj       cls    labels  img_size\n",
            "      2/14     1.47G   0.06306   0.03686   0.04499         9       640: 100% 21/21 [00:02<00:00,  8.11it/s]\n",
            "               Class     Images     Labels          P          R     mAP@.5 mAP@.5:.95: 100% 6/6 [00:00<00:00,  9.34it/s]\n",
            "                 all         60         70      0.188      0.167     0.0608     0.0306\n",
            "\n",
            "     Epoch   gpu_mem       box       obj       cls    labels  img_size\n",
            "      3/14     1.47G   0.06484   0.03213   0.04256         4       640: 100% 21/21 [00:02<00:00,  8.15it/s]\n",
            "               Class     Images     Labels          P          R     mAP@.5 mAP@.5:.95: 100% 6/6 [00:00<00:00, 10.20it/s]\n",
            "                 all         60         70      0.526     0.0833      0.122     0.0502\n",
            "\n",
            "     Epoch   gpu_mem       box       obj       cls    labels  img_size\n",
            "      4/14     1.47G   0.05617    0.0329   0.04025         4       640: 100% 21/21 [00:02<00:00,  8.20it/s]\n",
            "               Class     Images     Labels          P          R     mAP@.5 mAP@.5:.95: 100% 6/6 [00:00<00:00, 10.67it/s]\n",
            "                 all         60         70      0.518      0.143     0.0882     0.0425\n",
            "\n",
            "     Epoch   gpu_mem       box       obj       cls    labels  img_size\n",
            "      5/14     1.47G   0.05928   0.03251   0.04243        10       640: 100% 21/21 [00:02<00:00,  7.55it/s]\n",
            "               Class     Images     Labels          P          R     mAP@.5 mAP@.5:.95: 100% 6/6 [00:00<00:00, 11.04it/s]\n",
            "                 all         60         70      0.182      0.111     0.0677      0.025\n",
            "\n",
            "     Epoch   gpu_mem       box       obj       cls    labels  img_size\n",
            "      6/14     1.47G   0.05422   0.02933   0.03609        14       640: 100% 21/21 [00:02<00:00,  8.09it/s]\n",
            "               Class     Images     Labels          P          R     mAP@.5 mAP@.5:.95: 100% 6/6 [00:00<00:00, 10.96it/s]\n",
            "                 all         60         70      0.357     0.0833     0.0833     0.0479\n",
            "\n",
            "     Epoch   gpu_mem       box       obj       cls    labels  img_size\n",
            "      7/14     1.47G   0.05656   0.03239   0.03881         9       640: 100% 21/21 [00:02<00:00,  8.00it/s]\n",
            "               Class     Images     Labels          P          R     mAP@.5 mAP@.5:.95: 100% 6/6 [00:00<00:00, 10.66it/s]\n",
            "                 all         60         70     0.0403      0.198     0.0842     0.0448\n",
            "\n",
            "     Epoch   gpu_mem       box       obj       cls    labels  img_size\n",
            "      8/14     1.47G   0.05273   0.02853   0.03448         6       640: 100% 21/21 [00:02<00:00,  8.00it/s]\n",
            "               Class     Images     Labels          P          R     mAP@.5 mAP@.5:.95: 100% 6/6 [00:00<00:00, 10.66it/s]\n",
            "                 all         60         70     0.0944      0.172      0.108      0.058\n",
            "\n",
            "     Epoch   gpu_mem       box       obj       cls    labels  img_size\n",
            "      9/14     1.47G   0.05003    0.0333   0.03724         9       640: 100% 21/21 [00:02<00:00,  8.16it/s]\n",
            "               Class     Images     Labels          P          R     mAP@.5 mAP@.5:.95: 100% 6/6 [00:00<00:00, 10.95it/s]\n",
            "                 all         60         70      0.363      0.167      0.156     0.0729\n",
            "\n",
            "     Epoch   gpu_mem       box       obj       cls    labels  img_size\n",
            "     10/14     1.47G   0.04496   0.02901   0.03285        12       640: 100% 21/21 [00:02<00:00,  8.23it/s]\n",
            "               Class     Images     Labels          P          R     mAP@.5 mAP@.5:.95: 100% 6/6 [00:00<00:00, 11.09it/s]\n",
            "                 all         60         70      0.357      0.139      0.158     0.0934\n",
            "\n",
            "     Epoch   gpu_mem       box       obj       cls    labels  img_size\n",
            "     11/14     1.47G   0.05058    0.0306   0.03624        10       640: 100% 21/21 [00:02<00:00,  8.15it/s]\n",
            "               Class     Images     Labels          P          R     mAP@.5 mAP@.5:.95: 100% 6/6 [00:00<00:00, 11.07it/s]\n",
            "                 all         60         70      0.562      0.111      0.206     0.0874\n",
            "\n",
            "     Epoch   gpu_mem       box       obj       cls    labels  img_size\n",
            "     12/14     1.47G   0.04683   0.02973   0.03598         6       640: 100% 21/21 [00:02<00:00,  8.14it/s]\n",
            "               Class     Images     Labels          P          R     mAP@.5 mAP@.5:.95: 100% 6/6 [00:00<00:00, 11.27it/s]\n",
            "                 all         60         70      0.555      0.111       0.21      0.118\n",
            "\n",
            "     Epoch   gpu_mem       box       obj       cls    labels  img_size\n",
            "     13/14     1.47G   0.04481   0.03341   0.03507        10       640: 100% 21/21 [00:02<00:00,  8.06it/s]\n",
            "               Class     Images     Labels          P          R     mAP@.5 mAP@.5:.95: 100% 6/6 [00:00<00:00, 11.21it/s]\n",
            "                 all         60         70      0.543      0.139      0.208      0.118\n",
            "\n",
            "     Epoch   gpu_mem       box       obj       cls    labels  img_size\n",
            "     14/14     1.47G   0.04227   0.02799   0.03559         8       640: 100% 21/21 [00:02<00:00,  8.01it/s]\n",
            "               Class     Images     Labels          P          R     mAP@.5 mAP@.5:.95: 100% 6/6 [00:00<00:00, 10.95it/s]\n",
            "                 all         60         70      0.544      0.139      0.214      0.126\n",
            "\n",
            "15 epochs completed in 0.017 hours.\n",
            "Optimizer stripped from runs/train/exp/weights/last.pt, 14.5MB\n",
            "Optimizer stripped from runs/train/exp/weights/best.pt, 14.5MB\n",
            "\n",
            "Validating runs/train/exp/weights/best.pt...\n",
            "Fusing layers... \n",
            "Model summary: 213 layers, 7029004 parameters, 0 gradients\n",
            "               Class     Images     Labels          P          R     mAP@.5 mAP@.5:.95: 100% 6/6 [00:02<00:00,  2.90it/s]\n",
            "                 all         60         70      0.544      0.139      0.214      0.125\n",
            "              CB500F         60          3          0          0     0.0274    0.00706\n",
            "              CB500X         60          7          0          0          0          0\n",
            "              CB650R         60         21          1          0      0.319      0.114\n",
            "             CBR650R         60          6      0.263      0.833      0.626      0.483\n",
            "           Gold Wing         60          3          1          0   0.000985   0.000661\n",
            "         HRC RCV 213         60         30          1          0       0.31      0.147\n",
            "Results saved to \u001b[1mruns/train/exp\u001b[0m\n"
          ]
        }
      ]
    },
    {
      "cell_type": "code",
      "source": [
        "!python detect.py --weights /content/drive/MyDrive/Colab\\ Notebooks/yolov5/runs/honda-vehicles/train/exp/weights/best.pt --img 640 --conf 0.1 --source /content/datasets/Honda-PKL-1/test/images"
      ],
      "metadata": {
        "colab": {
          "base_uri": "https://localhost:8080/"
        },
        "id": "yXNHxPWuO44-",
        "outputId": "0e0d2326-f7a6-48d4-cd3a-ed912109ae71"
      },
      "execution_count": null,
      "outputs": [
        {
          "output_type": "stream",
          "name": "stdout",
          "text": [
            "\u001b[34m\u001b[1mdetect: \u001b[0mweights=['/content/drive/MyDrive/Colab Notebooks/yolov5/runs/honda-vehicles/train/exp/weights/best.pt'], source=/content/datasets/Honda-PKL-1/test/images, data=data/coco128.yaml, imgsz=[640, 640], conf_thres=0.1, iou_thres=0.45, max_det=1000, device=, view_img=False, save_txt=False, save_conf=False, save_crop=False, nosave=False, classes=None, agnostic_nms=False, augment=False, visualize=False, update=False, project=runs/detect, name=exp, exist_ok=False, line_thickness=3, hide_labels=False, hide_conf=False, half=False, dnn=False\n",
            "git: 'Notebooks/yolov5' is not a git command. See 'git --help'.\n",
            "YOLOv5 🚀 2022-6-21 Python-3.7.13 torch-1.11.0+cu113 CUDA:0 (Tesla T4, 15110MiB)\n",
            "\n",
            "Fusing layers... \n",
            "Model summary: 213 layers, 7029004 parameters, 0 gradients\n",
            "image 1/50 /content/datasets/Honda-PKL-1/test/images/2070_jpg.rf.84bff32bdbb1bf3c3074e34b040d4722.jpg: 640x640 Done. (0.013s)\n",
            "image 2/50 /content/datasets/Honda-PKL-1/test/images/2070_jpg.rf.d7aaf9bef3a425adc7ad00f46a10b20c.jpg: 640x640 1 CBR500R, Done. (0.013s)\n",
            "image 3/50 /content/datasets/Honda-PKL-1/test/images/2100_jpg.rf.c40a1872b767d6a2be777b4ccfa858c3.jpg: 640x640 1 CBR500R, Done. (0.013s)\n",
            "image 4/50 /content/datasets/Honda-PKL-1/test/images/2100_jpg.rf.d4295776f438c3f19d45a39459bca159.jpg: 640x640 1 CBR500R, Done. (0.013s)\n",
            "image 5/50 /content/datasets/Honda-PKL-1/test/images/2100_jpg.rf.f2a52294494f2340add21c47493ef96c.jpg: 640x640 Done. (0.016s)\n",
            "image 6/50 /content/datasets/Honda-PKL-1/test/images/210_jpg.rf.1d753ae5b9ba7e536b242219c1543f39.jpg: 640x640 Done. (0.013s)\n",
            "image 7/50 /content/datasets/Honda-PKL-1/test/images/210_jpg.rf.715e786ee07c980ceb912512d711ad71.jpg: 640x640 1 CB500X, 1 CBR500R, Done. (0.013s)\n",
            "image 8/50 /content/datasets/Honda-PKL-1/test/images/210_jpg.rf.73b88780cbdeb61d5d835e1fd9f08ceb.jpg: 640x640 1 CB500X, 1 CBR500R, Done. (0.013s)\n",
            "image 9/50 /content/datasets/Honda-PKL-1/test/images/2130_jpg.rf.6651b47ae620c768fa0cea62a97d4cb9.jpg: 640x640 Done. (0.013s)\n",
            "image 10/50 /content/datasets/Honda-PKL-1/test/images/2130_jpg.rf.9093ba56d9392d5c1f24aa2c3fe3c019.jpg: 640x640 1 CBR500R, Done. (0.013s)\n",
            "image 11/50 /content/datasets/Honda-PKL-1/test/images/2130_jpg.rf.f8f31e4614b7b1f21e20c964de8f47f2.jpg: 640x640 Done. (0.013s)\n",
            "image 12/50 /content/datasets/Honda-PKL-1/test/images/2160_jpg.rf.676013a6ade5a631ab8628b53f5002e4.jpg: 640x640 1 CB500X, 1 CBR500R, Done. (0.013s)\n",
            "image 13/50 /content/datasets/Honda-PKL-1/test/images/2160_jpg.rf.a42e93299a408708f555e4c95e4569f5.jpg: 640x640 1 CBR500R, Done. (0.013s)\n",
            "image 14/50 /content/datasets/Honda-PKL-1/test/images/2160_jpg.rf.eb4239b672e7501e9d14b082655b9b36.jpg: 640x640 1 CBR500R, Done. (0.013s)\n",
            "image 15/50 /content/datasets/Honda-PKL-1/test/images/2190_jpg.rf.3da751868b2b8b8d2f0b62533a8a920a.jpg: 640x640 Done. (0.013s)\n",
            "image 16/50 /content/datasets/Honda-PKL-1/test/images/2190_jpg.rf.45b8bb67a0c0be3c3466ba2a90ae1f9c.jpg: 640x640 Done. (0.013s)\n",
            "image 17/50 /content/datasets/Honda-PKL-1/test/images/2190_jpg.rf.9374c95239e1cf83faf5dea70b95c500.jpg: 640x640 1 CBR500R, Done. (0.013s)\n",
            "image 18/50 /content/datasets/Honda-PKL-1/test/images/2220_jpg.rf.2e5937e374f7e2b203fc3ec6f7a896ae.jpg: 640x640 1 CBR500R, Done. (0.013s)\n",
            "image 19/50 /content/datasets/Honda-PKL-1/test/images/2220_jpg.rf.6837c8e049e9d61926cd947965f9f01e.jpg: 640x640 2 CBR500Rs, Done. (0.014s)\n",
            "image 20/50 /content/datasets/Honda-PKL-1/test/images/2220_jpg.rf.f22c498d6bed540b182e5660609da1e5.jpg: 640x640 Done. (0.013s)\n",
            "image 21/50 /content/datasets/Honda-PKL-1/test/images/2250_jpg.rf.8bb3c254b18e9284b7756e3b5136d777.jpg: 640x640 1 CBR500R, Done. (0.013s)\n",
            "image 22/50 /content/datasets/Honda-PKL-1/test/images/2250_jpg.rf.a74b36de1c0408fd254a2bdb3f8e8862.jpg: 640x640 1 CBR500R, Done. (0.013s)\n",
            "image 23/50 /content/datasets/Honda-PKL-1/test/images/2250_jpg.rf.edc9b48b154c46e0992b2aa1acbabea6.jpg: 640x640 1 CBR500R, Done. (0.013s)\n",
            "image 24/50 /content/datasets/Honda-PKL-1/test/images/2280_jpg.rf.4f8c1ae78916c588b6ef0ec9c013fbff.jpg: 640x640 1 CBR500R, Done. (0.013s)\n",
            "image 25/50 /content/datasets/Honda-PKL-1/test/images/2280_jpg.rf.91c3614afda5e469c364aa015f0b70b8.jpg: 640x640 2 CBR500Rs, Done. (0.013s)\n",
            "image 26/50 /content/datasets/Honda-PKL-1/test/images/2280_jpg.rf.98ec724441d6f7f8836926688eac3b1c.jpg: 640x640 1 CBR500R, Done. (0.013s)\n",
            "image 27/50 /content/datasets/Honda-PKL-1/test/images/240_jpg.rf.06de01cf602e9fe7639d58eddc7ccc8d.jpg: 640x640 Done. (0.013s)\n",
            "image 28/50 /content/datasets/Honda-PKL-1/test/images/240_jpg.rf.36afb31271a9e2836118507ffa64c31b.jpg: 640x640 1 CBR500R, Done. (0.017s)\n",
            "image 29/50 /content/datasets/Honda-PKL-1/test/images/240_jpg.rf.b655b2c9633cc5e7d7103520d0f1e09d.jpg: 640x640 1 CBR500R, Done. (0.013s)\n",
            "image 30/50 /content/datasets/Honda-PKL-1/test/images/270_jpg.rf.b80cf0e982f6c18e647abaae0085fde5.jpg: 640x640 1 CBR500R, Done. (0.013s)\n",
            "image 31/50 /content/datasets/Honda-PKL-1/test/images/270_jpg.rf.c1e1b33729c6915eb2e835d215c607ba.jpg: 640x640 Done. (0.013s)\n",
            "image 32/50 /content/datasets/Honda-PKL-1/test/images/270_jpg.rf.f14a614e8b80cb2238e8edf91aba94b0.jpg: 640x640 Done. (0.013s)\n",
            "image 33/50 /content/datasets/Honda-PKL-1/test/images/300_jpg.rf.0c0e4ecef36228113667562b017eeaf5.jpg: 640x640 1 CBR500R, Done. (0.013s)\n",
            "image 34/50 /content/datasets/Honda-PKL-1/test/images/300_jpg.rf.514f21927e4b4c583d4c6a49a4d23d10.jpg: 640x640 Done. (0.013s)\n",
            "image 35/50 /content/datasets/Honda-PKL-1/test/images/300_jpg.rf.d584e4de031393723e6083d062e57d83.jpg: 640x640 Done. (0.014s)\n",
            "image 36/50 /content/datasets/Honda-PKL-1/test/images/30_jpg.rf.29cbdc5db5c5559d1e80a8b058cd73ca.jpg: 640x640 Done. (0.013s)\n",
            "image 37/50 /content/datasets/Honda-PKL-1/test/images/30_jpg.rf.2a919c609ba9c50fecdb505e30bb08af.jpg: 640x640 1 CBR500R, Done. (0.013s)\n",
            "image 38/50 /content/datasets/Honda-PKL-1/test/images/30_jpg.rf.b3ac7720d88e705fa46806182aa77bd5.jpg: 640x640 1 CBR500R, Done. (0.013s)\n",
            "image 39/50 /content/datasets/Honda-PKL-1/test/images/330_jpg.rf.1f0563e744dd0450629f8d574248f24f.jpg: 640x640 Done. (0.013s)\n",
            "image 40/50 /content/datasets/Honda-PKL-1/test/images/330_jpg.rf.3eaa05ecdb4c5798873848e9e471aab2.jpg: 640x640 Done. (0.013s)\n",
            "image 41/50 /content/datasets/Honda-PKL-1/test/images/330_jpg.rf.6cdd25d56630c3c3c6dc6959c825fc01.jpg: 640x640 Done. (0.013s)\n",
            "image 42/50 /content/datasets/Honda-PKL-1/test/images/360_jpg.rf.49787b96a4acf350d8d46136648e27bc.jpg: 640x640 Done. (0.015s)\n",
            "image 43/50 /content/datasets/Honda-PKL-1/test/images/360_jpg.rf.e7d0f91ceda9d0752efa66852b6bcf01.jpg: 640x640 Done. (0.013s)\n",
            "image 44/50 /content/datasets/Honda-PKL-1/test/images/360_jpg.rf.f0af8803a18e6519eb19a2a32c85f0b4.jpg: 640x640 Done. (0.013s)\n",
            "image 45/50 /content/datasets/Honda-PKL-1/test/images/390_jpg.rf.999adfbcbf72656f1aebb126dc391e2d.jpg: 640x640 Done. (0.013s)\n",
            "image 46/50 /content/datasets/Honda-PKL-1/test/images/390_jpg.rf.cbc65daef40f30fd4db76f8e097eadab.jpg: 640x640 Done. (0.013s)\n",
            "image 47/50 /content/datasets/Honda-PKL-1/test/images/420_jpg.rf.092e5e6878be7faf64927032b38c0c07.jpg: 640x640 Done. (0.013s)\n",
            "image 48/50 /content/datasets/Honda-PKL-1/test/images/420_jpg.rf.7cbe94d602bf3b8c13dd7e24e24b9e06.jpg: 640x640 Done. (0.013s)\n",
            "image 49/50 /content/datasets/Honda-PKL-1/test/images/420_jpg.rf.b65ff38b9e0539ac7d57c8ceff76b57c.jpg: 640x640 Done. (0.013s)\n",
            "image 50/50 /content/datasets/Honda-PKL-1/test/images/450_jpg.rf.d51ff3062f8de763a5c2673f8ed5eaff.jpg: 640x640 Done. (0.014s)\n",
            "Speed: 0.6ms pre-process, 13.2ms inference, 0.8ms NMS per image at shape (1, 3, 640, 640)\n",
            "Results saved to \u001b[1mruns/detect/exp2\u001b[0m\n"
          ]
        }
      ]
    }
  ]
}